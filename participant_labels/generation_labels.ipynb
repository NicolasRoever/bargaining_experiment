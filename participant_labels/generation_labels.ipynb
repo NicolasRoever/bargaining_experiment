{
 "cells": [
  {
   "cell_type": "code",
   "execution_count": 1,
   "metadata": {},
   "outputs": [],
   "source": [
    "import random\n",
    "import string\n",
    "\n"
   ]
  },
  {
   "cell_type": "code",
   "execution_count": 2,
   "metadata": {},
   "outputs": [],
   "source": [
    "length = 8\n",
    "n = 39"
   ]
  },
  {
   "cell_type": "code",
   "execution_count": 3,
   "metadata": {},
   "outputs": [],
   "source": [
    "\n",
    "\n",
    "# Open file to write the generated strings\n",
    "with open(F'generated_labels_for_{n}_participants_july_14.txt', 'w') as f:\n",
    "    for i in range(n):\n",
    "        random.seed(600 + i)  # Set seed to 30 + iteration number\n",
    "        label = \"\".join(\n",
    "            random.choices(\n",
    "                string.ascii_lowercase + string.ascii_uppercase + string.digits,\n",
    "                k=length,\n",
    "            )\n",
    "        )\n",
    "        f.write(label + '\\n')  # Write each label on a new line"
   ]
  }
 ],
 "metadata": {
  "kernelspec": {
   "display_name": "bargaining_analysis",
   "language": "python",
   "name": "python3"
  },
  "language_info": {
   "codemirror_mode": {
    "name": "ipython",
    "version": 3
   },
   "file_extension": ".py",
   "mimetype": "text/x-python",
   "name": "python",
   "nbconvert_exporter": "python",
   "pygments_lexer": "ipython3",
   "version": "3.12.0"
  }
 },
 "nbformat": 4,
 "nbformat_minor": 2
}
