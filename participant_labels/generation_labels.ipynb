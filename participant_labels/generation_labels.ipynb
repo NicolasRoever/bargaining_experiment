{
 "cells": [
  {
   "cell_type": "code",
   "execution_count": 5,
   "metadata": {},
   "outputs": [],
   "source": [
    "import random\n",
    "import string\n",
    "\n"
   ]
  },
  {
   "cell_type": "code",
   "execution_count": 6,
   "metadata": {},
   "outputs": [],
   "source": [
    "length = 8\n",
    "n = 20"
   ]
  },
  {
   "cell_type": "code",
   "execution_count": 7,
   "metadata": {},
   "outputs": [],
   "source": [
    "\n",
    "\n",
    "# Open file to write the generated strings\n",
    "with open(F'generated_labels_for_{n}_participants.txt', 'w') as f:\n",
    "    for i in range(n):\n",
    "        random.seed(30 + i)  # Set seed to 30 + iteration number\n",
    "        label = \"\".join(\n",
    "            random.choices(\n",
    "                string.ascii_lowercase + string.ascii_uppercase + string.digits,\n",
    "                k=length,\n",
    "            )\n",
    "        )\n",
    "        f.write(label + '\\n')  # Write each label on a new line"
   ]
  }
 ],
 "metadata": {
  "kernelspec": {
   "display_name": "Python 3.11 (XPython Raw)",
   "language": "python",
   "name": "xpython-raw"
  },
  "language_info": {
   "file_extension": ".py",
   "mimetype": "text/x-python",
   "name": "python",
   "version": "3.11.8"
  }
 },
 "nbformat": 4,
 "nbformat_minor": 2
}
