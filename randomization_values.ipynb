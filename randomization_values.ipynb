{
 "cells": [
  {
   "cell_type": "markdown",
   "metadata": {},
   "source": [
    "# Randomization Procedure\n",
    "\n",
    "In this file, I draw all random values which we need when conducting the experiment. "
   ]
  },
  {
   "cell_type": "code",
   "execution_count": 7,
   "metadata": {},
   "outputs": [],
   "source": [
    "import pandas as pd\n",
    "import numpy as np\n",
    "import random\n",
    "import matplotlib.pyplot as plt\n",
    "from bargain_live.bargaining_functions import create_participant_data, create_group_matrices_for_all_rounds\n",
    "from pathlib import Path\n",
    "import pickle\n",
    "import os\n",
    "# Set the random seed for reproducibility\n",
    "np.random.seed(40)\n",
    "current_dir = Path(os.getcwd())"
   ]
  },
  {
   "cell_type": "code",
   "execution_count": 8,
   "metadata": {},
   "outputs": [
    {
     "data": {
      "image/png": "[encoded data removed]",
      "text/plain": [
       "<Figure size 640x480 with 1 Axes>"
      ]
     },
     "metadata": {},
     "output_type": "display_data"
    }
   ],
   "source": [
    "#Initialize Buyer Valuation\n",
    "buyer_valuations = np.random.randint(0, 101, 100)\n",
    "plt.hist(buyer_valuations, bins=30)\n",
    "plt.title(\"Buyer Valuations\")\n",
    "plt.show()"
   ]
  },
  {
   "cell_type": "code",
   "execution_count": 10,
   "metadata": {},
   "outputs": [],
   "source": [
    "for number_of_groups in [3,4]:\n",
    "    participant_data = create_participant_data(number_of_groups, buyer_valuations)\n",
    "\n",
    "    group_matrices = create_group_matrices_for_all_rounds(participant_data)\n",
    "\n",
    "    participant_data.to_pickle(current_dir / \"bargain_live\" /\"randomization_values\" / f\"participant_data_{number_of_groups}_groups.pkl\")\n",
    "\n",
    "    with open(current_dir / \"bargain_live\" / \"randomization_values\" / f'round_groupings_{number_of_groups}_groups.pkl', 'wb') as pickle_file:\n",
    "        pickle.dump(group_matrices, pickle_file)"
   ]
  },
  {
   "cell_type": "markdown",
   "metadata": {},
   "source": [
    "# Graveyard"
   ]
  },
  {
   "cell_type": "code",
   "execution_count": 64,
   "metadata": {},
   "outputs": [],
   "source": [
    "for number_of_groups in range(1, 11):\n",
    "    random_values = create_random_values_dataframe(\n",
    "        number_of_groups=number_of_groups, \n",
    "        buyer_valuations=buyer_valuations\n",
    "    )\n",
    "    random_values.to_csv(current_dir / \"bargain_live\" / \"randomization_values\" / f\"random_values_{number_of_groups}_groups.csv\")"
   ]
  }
 ],
 "metadata": {
  "kernelspec": {
   "display_name": "bargaining",
   "language": "python",
   "name": "python3"
  },
  "language_info": {
   "codemirror_mode": {
    "name": "ipython",
    "version": 3
   },
   "file_extension": ".py",
   "mimetype": "text/x-python",
   "name": "python",
   "nbconvert_exporter": "python",
   "pygments_lexer": "ipython3",
   "version": "3.9.19"
  }
 },
 "nbformat": 4,
 "nbformat_minor": 2
}
